{
 "cells": [
  {
   "cell_type": "markdown",
   "metadata": {},
   "source": [
    "## Central Limit Theorm"
   ]
  },
  {
   "cell_type": "markdown",
   "metadata": {},
   "source": [
    "Regardless of the shape of the population, regarless of shape of individual sample, if sample size is large enough, the shape of the SAMPLE MEANS tends to be normally distributed.  \n",
    "Mu_xbar = mu   \n",
    "std error = stdev_populatn/sqrt(n)  \n",
    "Larger sample -> large n -> smaller error  \n",
    "\n",
    "n > 30, can assume smaple mean normal distributed, but if popultn is highly skewed, it doesnt work.  \n",
    "study skewness kurtosis of random sample or population  \n",
    "10 times sq of skewness = sample size  10*skew^2  \n",
    "OR  \n",
    "10 times abs value of kurtosis 10* |Kurtosis|  "
   ]
  },
  {
   "cell_type": "code",
   "execution_count": 1,
   "metadata": {},
   "outputs": [],
   "source": [
    "import pandas as pd\n",
    "import numpy as np\n",
    "import matplotlib.pyplot as plt\n",
    "import math\n",
    "\n",
    "from scipy.stats import norm\n",
    "from scipy.stats import t"
   ]
  },
  {
   "cell_type": "code",
   "execution_count": 2,
   "metadata": {},
   "outputs": [],
   "source": [
    "n = 30\n",
    "nsim = 1000\n",
    "df = pd.DataFrame({'y': [-99,-98,-97,-96,-95,5], 'p': [0.002,0.002,0.002,0.002,0.002,0.99]})\n",
    "\n",
    "ntot = n * nsim\n",
    "# Create a random sample - simulated random variable\n",
    "rv = df['y'].sample(ntot, replace=True, weights=df['p'])\n",
    "\n"
   ]
  },
  {
   "cell_type": "markdown",
   "metadata": {},
   "source": [
    "## Sample Distribution of Proportion"
   ]
  },
  {
   "cell_type": "markdown",
   "metadata": {},
   "source": [
    "If data is categorical. Find the proportion.  \n",
    "phat will follow normal if we can model as normal. Can find mean and stderror.  \n",
    "categorical not sensitive to sample size, even sample size of 20 will work.  \n",
    "p - true proportion. \n",
    "mu_phat = p\n",
    "stderr_phat = sqrt(p*(1-p)/n)"
   ]
  },
  {
   "cell_type": "markdown",
   "metadata": {},
   "source": [
    "Question 1: If true proportion of worker driving bike to work is p = 0.4, what is probability that a sample of size 200 yields a sample proportion between 0.4 and 0.45?"
   ]
  },
  {
   "cell_type": "code",
   "execution_count": 3,
   "metadata": {},
   "outputs": [
    {
     "data": {
      "text/plain": [
       "0.4255426634106171"
      ]
     },
     "execution_count": 3,
     "metadata": {},
     "output_type": "execute_result"
    }
   ],
   "source": [
    "p = 0.4\n",
    "n = 200\n",
    "# Sample proportions are normally distributed\n",
    "mu_phat = p \n",
    "se_phat = math.sqrt(p*(1-p)/n)\n",
    "# P(0.4 < phat < 0.45)\n",
    "\n",
    "norm.cdf(x = 0.45, scale = se_phat, loc = mu_phat) - norm.cdf(x = 0.4, scale = se_phat, loc = mu_phat)\n",
    "# Probabability of proportion of worker travelling by bike between 0.4 and 0.425 is 0.425"
   ]
  },
  {
   "cell_type": "markdown",
   "metadata": {},
   "source": [
    "## Confidence Interval"
   ]
  },
  {
   "cell_type": "markdown",
   "metadata": {},
   "source": [
    "Interval for our estimation. CI for our sample proportion or sample mean.  \n",
    "CI = point estimate +- Critical Value * stderr  \n",
    "Critical value Z(alpha/2) = Z(0.05/2) = 1.96"
   ]
  },
  {
   "cell_type": "markdown",
   "metadata": {},
   "source": [
    "### Confidence interval of a proportion.  \n",
    "Checklist for confidence inteval for proportion p  \n",
    "Sample size should be random. \n",
    "sample size should satisfy following condition: n*phat and n*(1-phat) >10.  \n",
    "Can say the CI is reliable only if conditipons surffice.  \n",
    "\n",
    "Larger sample size, the std err is reduced and will reduce the range opf CI, narrower interval."
   ]
  },
  {
   "cell_type": "markdown",
   "metadata": {},
   "source": [
    "Question 1: Number of offers provided by Credit card company = 1000, number accepted = 140. Generate 95% CI."
   ]
  },
  {
   "cell_type": "code",
   "execution_count": 4,
   "metadata": {},
   "outputs": [
    {
     "name": "stdout",
     "output_type": "stream",
     "text": [
      "0.14\n",
      "stderr_phat :  0.010972693379476163\n",
      "0.11849352097622673  to  0.1615064790237733\n"
     ]
    }
   ],
   "source": [
    "n = 1000\n",
    "phat = 140/n\n",
    "print(phat)\n",
    "stderr_phat = math.sqrt(phat * (1-phat)/n)\n",
    "print('stderr_phat : ',stderr_phat)\n",
    "LB = phat - 1.96*stderr_phat\n",
    "UB = phat + 1.96*stderr_phat\n",
    "print(LB, ' to ', UB)\n",
    "\n",
    "# There is a 95% CI for the proportion of people who accept the offer is between 0.1185% and 0.1615%\n",
    "# With 95% confidence, the population proportion that will accept the offer is between 12% and 16%"
   ]
  },
  {
   "cell_type": "markdown",
   "metadata": {},
   "source": [
    "### Confidence Interval of sample mean  \n",
    "Working with numeric data. \n",
    "sigma stddev of population is unknown, we use t distribution. \n",
    "we use stderr of sample means.  \n",
    "CI = point estimate +- Critical Value * stderr  \n",
    "stderr_xbar = stderr/sqrt(n). \n",
    "\n",
    "degree of freedom = (n-1)  controls shape of the distribution.  \n",
    "dof larger -> n is large --> shape will be more closer to normal disytribution.  \n",
    "\n",
    "Checklist for confidence inteval for mean\n",
    "Sample size should be random.  \n",
    "Sample size should satisfy following condition: 10*|kurtosis|.   \n",
    "Can say the CI is reliable only if conditipons surffice."
   ]
  },
  {
   "cell_type": "code",
   "execution_count": 5,
   "metadata": {},
   "outputs": [
    {
     "data": {
      "text/plain": [
       "1.979124109399617"
      ]
     },
     "execution_count": 5,
     "metadata": {},
     "output_type": "execute_result"
    }
   ],
   "source": [
    "# Find Quantile value i.e Critical value for the t distribution. 95% CV \n",
    "df = 125\n",
    "alpha = 0.05\n",
    "t.ppf(1-alpha/2, df) "
   ]
  },
  {
   "cell_type": "code",
   "execution_count": 6,
   "metadata": {},
   "outputs": [
    {
     "data": {
      "text/plain": [
       "2.6157333763664727"
      ]
     },
     "execution_count": 6,
     "metadata": {},
     "output_type": "execute_result"
    }
   ],
   "source": [
    "# Find Quantile value i.e Critical value for the t distribution.  1% CV\n",
    "df = 125\n",
    "alpha = 0.01\n",
    "t.ppf(1-alpha/2, df) \n",
    "# Wider CI"
   ]
  },
  {
   "cell_type": "markdown",
   "metadata": {},
   "source": [
    "Question 2: Number of offers provided by Credit card company = 1000, number accepted = 140. Average balance for customer is 1990.5$ , stddev of balance is 2833.33"
   ]
  },
  {
   "cell_type": "code",
   "execution_count": 7,
   "metadata": {},
   "outputs": [
    {
     "name": "stdout",
     "output_type": "stream",
     "text": [
      "239.46009045499477\n",
      "1516.5787617415067  to  2464.4212382584933\n"
     ]
    }
   ],
   "source": [
    "df = 125 # assumption\n",
    "alpha = 0.05\n",
    "n = 140\n",
    "xbar = 1990.5\n",
    "s = 2833.33\n",
    "stderr = s/math.sqrt(n)\n",
    "print(stderr)\n",
    "# 95% CI is \n",
    "LB = xbar - t.ppf(1-alpha/2, df) * stderr\n",
    "UB = xbar + t.ppf(1-alpha/2, df) * stderr\n",
    "print(LB, ' to ', UB)\n",
    "\n",
    "# We are 95% confident that mu lies between $1516.5788 and $2464.421\n",
    "# The mean balance of 95% of samples of this size will fall between $1516.5788 and $2464.421"
   ]
  },
  {
   "cell_type": "markdown",
   "metadata": {},
   "source": [
    "Might mu be $1,250?  \n",
    "We reject this as the mu is not in the bound.  \n",
    "It could be, but based on sample results but it is very less likely."
   ]
  },
  {
   "cell_type": "markdown",
   "metadata": {},
   "source": [
    "Wrong interpretation:  \n",
    "95% of all customers keep balance between $1516.5788 and $2464.421.  \n"
   ]
  },
  {
   "cell_type": "markdown",
   "metadata": {},
   "source": [
    "### Margin of error"
   ]
  },
  {
   "cell_type": "markdown",
   "metadata": {},
   "source": [
    "Margin of error is the half width of the confidence interval.  \n",
    "CV * SE is the margin of error when calculating the confidence interval.  \n",
    "Three things have impact on the margin of error:  \n",
    "Level of confidence, alpha. \n",
    "Variation of data,s .  \n",
    "sample size, n. \n",
    "\n",
    "Derive sample size:  \n",
    "We mostly work on 95% CI, considering large n, CV is approx 2  \n",
    "Considering we know sigma\n",
    "margin of error = e = CV * sigma / sqrt(n). \n",
    "e = 2 * sigma / sqrt(n)  \n",
    "n = 4 * sigma^2/e^2  \n",
    "\n",
    "But sigma of population is not known to us. Instead of sigma find stddev of sample s.  \n",
    "n = 4 * s^2/e^2. "
   ]
  },
  {
   "cell_type": "markdown",
   "metadata": {},
   "source": [
    "## Statistical Testing"
   ]
  },
  {
   "cell_type": "markdown",
   "metadata": {},
   "source": [
    "Hypothesis - Testable statement about a population parameter.  \n",
    "H0 - Null hypothesis is current belief in a situation. Always believe it is true.  \n",
    "H1- alternative hypothesys. Research claim is always in H1.\n"
   ]
  },
  {
   "cell_type": "markdown",
   "metadata": {},
   "source": [
    "### Hypothesis test for population"
   ]
  },
  {
   "cell_type": "markdown",
   "metadata": {},
   "source": [
    "Question 1: A manager is evaluating software for spam filter (cost $ 15000). To make it profitable the software should reduce spam to less than 20%. Should the manager buy the software? "
   ]
  },
  {
   "cell_type": "code",
   "execution_count": 17,
   "metadata": {},
   "outputs": [
    {
     "name": "stdout",
     "output_type": "stream",
     "text": [
      " n*phat > 10:  True\n",
      " n*(1-phat) > 10:  True\n",
      "Zstat :  -2.0000000000000004\n",
      "Reject H0 :  True\n"
     ]
    },
    {
     "data": {
      "text/plain": [
       "0.022750131948179177"
      ]
     },
     "execution_count": 17,
     "metadata": {},
     "output_type": "execute_result"
    }
   ],
   "source": [
    "# p : proportion of email that slip past the filter\n",
    "# Ho: p >= 20\n",
    "# H1: p < 20\n",
    "\n",
    "# eg: 100 email review showed 12% spam\n",
    "n = 100\n",
    "phat = 0.12\n",
    "# Less than 20% passed the spam, which is good, but is this by chance?\n",
    "p0 = 0.2\n",
    "\n",
    "# null distribution of phat can be approx as normal if\n",
    "print(' n*phat > 10: ', n*phat > 10)\n",
    "print(' n*(1-phat) > 10: ', n*(1-phat) > 10)\n",
    "# sample size is large enough\n",
    "# null distribution for phat has following param\n",
    "mu_phat = p0\n",
    "# SE of phat\n",
    "sigma_phat = math.sqrt(p0 * (1 - p0)/n)\n",
    "# Find test statistic i.e zscore = (X-Mu)/sigma\n",
    "Zstat = (phat - mu_phat)/sigma_phat\n",
    "print('Zstat : ', Zstat)\n",
    "# Does Zstat fall under critical region, it is a one sided test, check just the left side\n",
    "alpha = 0.05\n",
    "print('Reject H0 : ', Zstat < -norm.ppf(1-alpha))\n",
    "\n",
    "# Finding p value\n",
    "# pvalue = p(Z <Zstat) \n",
    "norm.cdf(Zstat, 0 ,1)\n",
    "\n",
    "# Difference between phat and p0 is not buy chance and is statistically significant."
   ]
  },
  {
   "cell_type": "code",
   "execution_count": 9,
   "metadata": {},
   "outputs": [
    {
     "data": {
      "image/png": "[encoded data removed]",
      "text/plain": [
       "<Figure size 432x288 with 1 Axes>"
      ]
     },
     "metadata": {
      "needs_background": "light"
     },
     "output_type": "display_data"
    }
   ],
   "source": [
    "z = np.arange(-4, 4, 0.01)\n",
    "fig, ax = plt.subplots()\n",
    "ax.plot(z, norm.pdf(z))\n",
    "px=np.arange(-4,-norm.ppf(1-alpha),0.01)\n",
    "ax.fill_between(px,norm.pdf(px),alpha=0.5, color='r')\n",
    "plt.show()"
   ]
  },
  {
   "cell_type": "markdown",
   "metadata": {},
   "source": [
    "### Pvalue"
   ]
  },
  {
   "cell_type": "markdown",
   "metadata": {},
   "source": [
    "It is the smallest alpha level at which H0 can be rejected.  "
   ]
  },
  {
   "cell_type": "markdown",
   "metadata": {},
   "source": [
    "### Hypothesis test for Mean"
   ]
  },
  {
   "cell_type": "markdown",
   "metadata": {},
   "source": [
    "Question 1: Firm is considering expanding an expensive area to downtown. In order to cover cost firm needs rent in this are to be more than $1500 per month.  \n",
    "Are rent in SF high enough to justify the expansion.   \n",
    "Rents obtained from sample size n = 115, average rent was $1657, with s = $581"
   ]
  },
  {
   "cell_type": "code",
   "execution_count": 13,
   "metadata": {},
   "outputs": [
    {
     "name": "stdout",
     "output_type": "stream",
     "text": [
      "Tstat :  2.8978269040927476\n",
      "Reject H0 :  True\n"
     ]
    },
    {
     "data": {
      "text/plain": [
       "0.002253604158582556"
      ]
     },
     "execution_count": 13,
     "metadata": {},
     "output_type": "execute_result"
    }
   ],
   "source": [
    "# mu = monthly rent for all rental prop in Sf area. \n",
    "# H0 => mu <= 1500\n",
    "# H1 => mu >1500\n",
    "\n",
    "# Null hypothesis\n",
    "mu0 = 1500\n",
    "\n",
    "# Sampling information\n",
    "n = 115\n",
    "xbar = 1657\n",
    "s = 581\n",
    "\n",
    "# Sample average is 1657 i.e > 1500, did this happen by chance?\n",
    "\n",
    "# Null distribution of xbar is approximated by t test\n",
    "\n",
    "# Null distribution has following parameters\n",
    "\n",
    "muXbar = mu0\n",
    "\n",
    "sigmaXbar = s/math.sqrt(n)\n",
    "\n",
    "# T-test tsats\n",
    "Tstat = (xbar - muXbar)/sigmaXbar\n",
    "print('Tstat : ', Tstat)\n",
    "\n",
    "# Test the significance\n",
    "alpha = 0.05\n",
    "df = n - 1\n",
    "\n",
    "print('Reject H0 : ', Tstat > t.ppf(1-alpha, df))\n",
    "\n",
    "# Finding p value\n",
    "# pvalue = p(T > Tstat) = 1 - P(T <= Tstat)\n",
    "1 - t.cdf(Tstat, df)\n",
    "\n",
    "# Reject null hypothesis \n",
    "# Means the difference between xbar and mu0 is not by chance\n",
    "# Mean rent exeeds the break even. it is profitable\n"
   ]
  },
  {
   "cell_type": "markdown",
   "metadata": {},
   "source": [
    "## Two Sample population test"
   ]
  },
  {
   "cell_type": "markdown",
   "metadata": {},
   "source": [
    "Question 1: A fitness chain os considering licensing a special diet at cost of $200,000. Is it more effective than the conventional government recommended food pyramid?  \n",
    "Review of 150 member using Artekan diet showwed 72\\% renewed their membership.  \n",
    "Review of 220 member using general diet showwed 60\\% renewed their membership.\n"
   ]
  },
  {
   "cell_type": "code",
   "execution_count": 25,
   "metadata": {},
   "outputs": [
    {
     "name": "stdout",
     "output_type": "stream",
     "text": [
      " n_a*phat_a > 10:  True\n",
      " n_a*(1-phat_a) > 10:  True\n",
      " n_g*phat_g > 10:  True\n",
      " n_g*(1-phat_g) > 10:  True\n",
      "Zstat :  1.6212448570464\n",
      "Reject H0 :  False\n",
      "0.023285973070805085  to  0.2167140269291949\n"
     ]
    }
   ],
   "source": [
    "# Let pa be proportion of people on artekans (new) diet who renew membership\n",
    "# pc be the proportion of people on conventional diet who renew membership\n",
    "# pa - pc are extra proportion who renew if on artekans diet\n",
    "\n",
    "# To be more profitable the difference must me more than 4%\n",
    "# H0 -> pa - pc <= 4\n",
    "# H1 -> pa - pc > 4\n",
    "\n",
    "# Null hypothesis\n",
    "nullDiff = 0.04\n",
    "\n",
    "# Sampling info\n",
    "n_a = 150\n",
    "phat_a = 0.72\n",
    "\n",
    "n_g = 220\n",
    "phat_g = 0.6\n",
    "\n",
    "# phat_a is 12% more than phat_g. Is this by chance?\n",
    "\n",
    "# null distribution of (phat_a - phat_g) can be approximated as normal if\n",
    "print(' n_a*phat_a > 10: ', n_a*phat_a > 10)\n",
    "print(' n_a*(1-phat_a) > 10: ', n_a*(1-phat_a) > 10)\n",
    "\n",
    "print(' n_g*phat_g > 10: ', n_g*phat_g > 10)\n",
    "print(' n_g*(1-phat_g) > 10: ', n_g*(1-phat_g) > 10)\n",
    "\n",
    "# Null hypothesis of (phat_a - phat_g) has following parameters\n",
    "muphatDiff = phat_a - phat_g\n",
    "sigmaphatDiff = math.sqrt(phat_a * (1 - phat_a)/ n_a + phat_g * (1 - phat_g)/ n_g)\n",
    "# This is stderr of phat\n",
    "\n",
    "# Find test stats\n",
    "Zstat = (muphatDiff - nullDiff)/sigmaphatDiff\n",
    "\n",
    "print('Zstat : ', Zstat)\n",
    "\n",
    "# Test the significance\n",
    "alpha = 0.05\n",
    "\n",
    "print('Reject H0 : ', Zstat > norm.ppf(1-alpha))\n",
    "\n",
    "# Finding p value\n",
    "# pvalue = p(z > Zstat) = 1 - P(z <= Zstat)\n",
    "1 - norm.cdf(Zstat)\n",
    "\n",
    "# Fail to reject null hypothesis at 0.05 level of significance\n",
    "# Difference between phat_a - phat_g is not significantly more than 0.04\n",
    "\n",
    "# Calculating confidence interval between the two diets\n",
    "LB = (phat_a - phat_g) - norm.ppf(1-alpha/2) * sigmaphatDiff\n",
    "UB = (phat_a - phat_g) + norm.ppf(1-alpha/2) * sigmaphatDiff\n",
    "print(LB, ' to ', UB)\n",
    "\n",
    "# The 95% CI for diff between proportions who renew on Artkens and conventional diet is between 0.023 and 0.217\n",
    "# When 95% CI doesnot include 0 then we say that two proportions are statistically \n",
    "# significantly different from each other"
   ]
  },
  {
   "cell_type": "markdown",
   "metadata": {},
   "source": [
    "## Two Sample Mean test"
   ]
  },
  {
   "cell_type": "markdown",
   "metadata": {},
   "source": [
    "Weight people loose by Articans is atleast more than 5 pounds"
   ]
  },
  {
   "cell_type": "code",
   "execution_count": 38,
   "metadata": {},
   "outputs": [
    {
     "name": "stdout",
     "output_type": "stream",
     "text": [
      " n_a > 10*abs(kurt_a):  True\n",
      " n_g > 10*abs(kurt_g):  True\n",
      "Zstat :  1.0151540858219992\n",
      "Reject H0 :  False\n",
      "1.682984117461447  to  15.157015882538552\n"
     ]
    }
   ],
   "source": [
    "# mu_a = mean weight loss in population due to Artikan diet\n",
    "# mu_g = mean weight loss in population due to general diet\n",
    "# H0 -> mu_a - mu_g <= 5\n",
    "# H1 -> mu_a - mu_g > 5\n",
    "\n",
    "# Articans \n",
    "n_a = 33\n",
    "Xbar_a = 15.42\n",
    "s_a = 14.37\n",
    "kurt_a = 0.100\n",
    "\n",
    "# Conventional\n",
    "n_g = 30\n",
    "Xbar_g = 7\n",
    "s_g = 12.36\n",
    "kurt_g = -0.565\n",
    "\n",
    "nullDiff = 5\n",
    "\n",
    "# Xbar_a is 8.42 lb more than Xbar_g. Is this by chance?\n",
    "# distrbution ofThe null of(Xbar_a - Xbar_g) can be modeled as normal if\n",
    "print(' n_a > 10*abs(kurt_a): ', n_a > 10*abs(kurt_a))\n",
    "print(' n_g > 10*abs(kurt_g): ', n_g > 10*abs(kurt_g))\n",
    "\n",
    "XbarDiff = Xbar_a - Xbar_g\n",
    "\n",
    "# Null distribution of XbarDiff has following parameters\n",
    "muXbarDiff = nullDiff\n",
    "sigmaXbarDiff = math.sqrt((s_a)**2/ n_a + (s_g)**2/ n_g)\n",
    "\n",
    "# Find Test stats\n",
    "Zstat = (XbarDiff - nullDiff)/sigmaXbarDiff\n",
    "\n",
    "print('Zstat : ', Zstat)\n",
    "\n",
    "# Test the significance\n",
    "alpha = 0.05\n",
    "num = (s_a ** 2 / n_a + s_g ** 2 / n_g) ** 2\n",
    "denom = (s_a ** 2 / n_a)** 2/(n_a - 1) + (s_g ** 2 / n_g)** 2/(n_g - 1)\n",
    "df = num/denom\n",
    "\n",
    "print('Reject H0 : ', Zstat > t.ppf(1-alpha, df))\n",
    "# Fail to reject null hypothesis\n",
    "# Diff between Xbar_a and  Xbar_g is not statistcally more than 5 lb\n",
    "\n",
    "# Finding p value\n",
    "# pvalue = p(z > Zstat) = 1 - P(z <= Zstat)\n",
    "1 - t.cdf(Zstat, df)\n",
    "\n",
    "# Calculating confidence interval between the two diets\n",
    "LB = (Xbar_a - Xbar_g) - t.ppf(1-alpha/2, df) * sigmaXbarDiff\n",
    "UB = (Xbar_a - Xbar_g) + t.ppf(1-alpha/2, df) * sigmaXbarDiff\n",
    "print(LB, ' to ', UB)\n",
    "# Difference is significant as 0 is not in the range\n",
    "# But significance is not larger than 5\n",
    "# With Artikan can loose 5 puond for sure if lower bound was more than 5 but not in this case."
   ]
  },
  {
   "cell_type": "markdown",
   "metadata": {},
   "source": [
    "## ChiSq Test - Testing two categorical variables"
   ]
  },
  {
   "cell_type": "code",
   "execution_count": null,
   "metadata": {},
   "outputs": [],
   "source": []
  }
 ],
 "metadata": {
  "kernelspec": {
   "display_name": "Python 3",
   "language": "python",
   "name": "python3"
  },
  "language_info": {
   "codemirror_mode": {
    "name": "ipython",
    "version": 3
   },
   "file_extension": ".py",
   "mimetype": "text/x-python",
   "name": "python",
   "nbconvert_exporter": "python",
   "pygments_lexer": "ipython3",
   "version": "3.7.3"
  }
 },
 "nbformat": 4,
 "nbformat_minor": 4
}
