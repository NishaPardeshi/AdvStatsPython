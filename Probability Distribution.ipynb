{
 "cells": [
  {
   "cell_type": "markdown",
   "metadata": {},
   "source": [
    "# Distribution Functions"
   ]
  },
  {
   "cell_type": "markdown",
   "metadata": {},
   "source": [
    "## Plotting Distributions"
   ]
  },
  {
   "cell_type": "code",
   "execution_count": 71,
   "metadata": {},
   "outputs": [],
   "source": [
    "import seaborn as sns\n",
    "import numpy as np\n",
    "import matplotlib.pyplot as plt\n",
    "import pandas as pd\n",
    "import scipy.stats as stats"
   ]
  },
  {
   "cell_type": "code",
   "execution_count": 2,
   "metadata": {},
   "outputs": [],
   "source": [
    "def plot_distribution(data, xlabel):\n",
    "    ax = sns.distplot(data,\n",
    "                     kde = False,\n",
    "                     color = 'skyblue',\n",
    "                     hist_kws = {'linewidth': 15, 'alpha': 1})\n",
    "    ax.set(xlabel = xlabel, ylabel='Frequency')\n",
    "    return ax"
   ]
  },
  {
   "cell_type": "markdown",
   "metadata": {},
   "source": [
    "## Uniform Distribution"
   ]
  },
  {
   "cell_type": "markdown",
   "metadata": {},
   "source": [
    "Every value between an interval from a to b is equally likely to be chosen.  \n",
    "P(obtain value between x1 and x2)  =  (x2 – x1) / (b – a)  \n",
    "\n",
    "scipy.stats.uniform(x, loc, scale)  \n",
    "\n",
    "where:\n",
    "\n",
    "x: The value of the uniform distribution  \n",
    "loc: The minimum possible value  \n",
    "loc + scale: The maximum possible value  "
   ]
  },
  {
   "cell_type": "code",
   "execution_count": 3,
   "metadata": {},
   "outputs": [],
   "source": [
    "from scipy.stats import uniform"
   ]
  },
  {
   "cell_type": "code",
   "execution_count": 4,
   "metadata": {},
   "outputs": [
    {
     "name": "stderr",
     "output_type": "stream",
     "text": [
      "/Users/nishapardeshi/virtualenvs/jupyter/lib/python3.7/site-packages/seaborn/distributions.py:2619: FutureWarning: `distplot` is a deprecated function and will be removed in a future version. Please adapt your code to use either `displot` (a figure-level function with similar flexibility) or `histplot` (an axes-level function for histograms).\n",
      "  warnings.warn(msg, FutureWarning)\n"
     ]
    },
    {
     "data": {
      "text/plain": [
       "<matplotlib.axes._subplots.AxesSubplot at 0x140b1e3c8>"
      ]
     },
     "execution_count": 4,
     "metadata": {},
     "output_type": "execute_result"
    },
    {
     "data": {
      "image/png": "[encoded data removed]",
      "text/plain": [
       "<Figure size 432x288 with 1 Axes>"
      ]
     },
     "metadata": {
      "needs_background": "light"
     },
     "output_type": "display_data"
    }
   ],
   "source": [
    "n = 10000\n",
    "start = 10\n",
    "width = 20\n",
    "data_uniform = uniform.rvs(size=n, loc = start, scale=width)\n",
    "plot_distribution(data_uniform, 'Uniform Distribution')"
   ]
  },
  {
   "cell_type": "markdown",
   "metadata": {},
   "source": [
    "Example 1  \n",
    "Suppose a bus shows up at a bus stop every 20 minutes. If you arrive at the bus stop, what is the probability that the bus will show up in 8 minutes or less? \n"
   ]
  },
  {
   "cell_type": "code",
   "execution_count": 5,
   "metadata": {},
   "outputs": [
    {
     "data": {
      "text/plain": [
       "0.4"
      ]
     },
     "execution_count": 5,
     "metadata": {},
     "output_type": "execute_result"
    }
   ],
   "source": [
    "# P(X > 0 and X <= 8)\n",
    "loc = 0\n",
    "mu = 20\n",
    "uniform.cdf(x=8, loc=loc, scale=mu) - uniform.cdf(x=0, loc=loc, scale=mu)"
   ]
  },
  {
   "cell_type": "markdown",
   "metadata": {},
   "source": [
    "Example 2  \n",
    "The weight of a certain species of frog is uniformly distributed between 15 and 25 grams. If you randomly select a frog, what is the probability that the frog weighs between 17 and 19 grams?"
   ]
  },
  {
   "cell_type": "code",
   "execution_count": 6,
   "metadata": {},
   "outputs": [
    {
     "data": {
      "text/plain": [
       "0.2"
      ]
     },
     "execution_count": 6,
     "metadata": {},
     "output_type": "execute_result"
    }
   ],
   "source": [
    "# loc - min possible value = 15, scale = max-loc \n",
    "\n",
    "loc = min(15, 25, 17, 19)\n",
    "scale = max(15, 25, 17, 19) - loc\n",
    "uniform.cdf(x=19, loc=loc, scale=scale) - uniform.cdf(x=17, loc=loc, scale=scale)"
   ]
  },
  {
   "cell_type": "markdown",
   "metadata": {},
   "source": [
    "Example 3  \n",
    "The length of an NBA game is uniformly distributed between 120 and 170 minutes. What is the probability that a randomly selected NBA game lasts more than 150 minutes?"
   ]
  },
  {
   "cell_type": "code",
   "execution_count": 7,
   "metadata": {},
   "outputs": [
    {
     "data": {
      "text/plain": [
       "0.4"
      ]
     },
     "execution_count": 7,
     "metadata": {},
     "output_type": "execute_result"
    }
   ],
   "source": [
    "# P(X > 150) and P(X <= 170)\n",
    "loc = min(120, 170)\n",
    "scale = max(120, 170) - loc\n",
    "uniform.cdf(x=170, loc=loc, scale=scale) - uniform.cdf(x=150, loc=loc, scale=scale)"
   ]
  },
  {
   "cell_type": "markdown",
   "metadata": {},
   "source": [
    "## Bernoulli Trial"
   ]
  },
  {
   "cell_type": "markdown",
   "metadata": {},
   "source": [
    "Fixed p success"
   ]
  },
  {
   "cell_type": "code",
   "execution_count": 8,
   "metadata": {},
   "outputs": [],
   "source": [
    "from scipy.stats import bernoulli"
   ]
  },
  {
   "cell_type": "code",
   "execution_count": 9,
   "metadata": {},
   "outputs": [
    {
     "data": {
      "text/plain": [
       "<matplotlib.axes._subplots.AxesSubplot at 0x140c247b8>"
      ]
     },
     "execution_count": 9,
     "metadata": {},
     "output_type": "execute_result"
    },
    {
     "data": {
      "image/png": "[encoded data removed]",
      "text/plain": [
       "<Figure size 432x288 with 1 Axes>"
      ]
     },
     "metadata": {
      "needs_background": "light"
     },
     "output_type": "display_data"
    }
   ],
   "source": [
    "p = 0.6\n",
    "n = 10000\n",
    "# rvs is basically to generate random numbers\n",
    "data_bernoulli = bernoulli.rvs(size = n, p = p)\n",
    "plot_distribution(data_bernoulli, 'Bernoulli Distribution')\n"
   ]
  },
  {
   "cell_type": "code",
   "execution_count": 10,
   "metadata": {},
   "outputs": [
    {
     "name": "stdout",
     "output_type": "stream",
     "text": [
      "mean:  0.6  var:  0.24  skew:  -0.4082482904638634  kurt:  -1.8333333333333308\n"
     ]
    }
   ],
   "source": [
    "# First Four moments\n",
    "mean, var, skew, kurt = bernoulli.stats(p, moments='mvsk')\n",
    "print('mean: ',mean, ' var: ',var ,' skew: ',skew, ' kurt: ', kurt)"
   ]
  },
  {
   "cell_type": "code",
   "execution_count": 11,
   "metadata": {},
   "outputs": [
    {
     "data": {
      "text/plain": [
       "0.0"
      ]
     },
     "execution_count": 11,
     "metadata": {},
     "output_type": "execute_result"
    }
   ],
   "source": [
    "# probability mass function (pmf)\n",
    "bernoulli.pmf(n, p)"
   ]
  },
  {
   "cell_type": "code",
   "execution_count": 12,
   "metadata": {},
   "outputs": [
    {
     "data": {
      "text/plain": [
       "1.0"
      ]
     },
     "execution_count": 12,
     "metadata": {},
     "output_type": "execute_result"
    }
   ],
   "source": [
    "# Cumulative Distribuition Function\n",
    "bernoulli.cdf(n, p)"
   ]
  },
  {
   "cell_type": "markdown",
   "metadata": {},
   "source": [
    "## Binomial Distribution"
   ]
  },
  {
   "cell_type": "markdown",
   "metadata": {},
   "source": [
    "p success in n attempts  \n",
    "P(X=k) = nCk * p^k * (1-p)^n-k  \n",
    "n: number of trials  \n",
    "k: number of successes  \n",
    "p: probability of success on a given trial  \n",
    "nCk: the number of ways to obtain k successes in n trials  "
   ]
  },
  {
   "cell_type": "code",
   "execution_count": 13,
   "metadata": {},
   "outputs": [],
   "source": [
    "from scipy.stats import binom"
   ]
  },
  {
   "cell_type": "code",
   "execution_count": 14,
   "metadata": {},
   "outputs": [
    {
     "data": {
      "text/plain": [
       "<matplotlib.axes._subplots.AxesSubplot at 0x140d334e0>"
      ]
     },
     "execution_count": 14,
     "metadata": {},
     "output_type": "execute_result"
    },
    {
     "data": {
      "image/png": "[encoded data removed]",
      "text/plain": [
       "<Figure size 432x288 with 1 Axes>"
      ]
     },
     "metadata": {
      "needs_background": "light"
     },
     "output_type": "display_data"
    }
   ],
   "source": [
    "n = 10\n",
    "y = 10000\n",
    "p = 0.8\n",
    "data_binom = binom.rvs(n = n, p = p, size = y)\n",
    "plot_distribution(data_binom, 'Binomial Distribution')\n",
    "# As probability is greater than 0.5 the plot skews to the right -> positive skew"
   ]
  },
  {
   "cell_type": "code",
   "execution_count": 15,
   "metadata": {},
   "outputs": [
    {
     "name": "stdout",
     "output_type": "stream",
     "text": [
      "mean:  8.0  var:  1.5999999999999996  skew:  -0.47434164902525705  kurt:  0.02500000000000003\n"
     ]
    }
   ],
   "source": [
    "# First four moments\n",
    "mean, var, skew, kurt = binom.stats(n, p, moments='mvsk')\n",
    "print('mean: ',mean, ' var: ',var ,' skew: ',skew, ' kurt: ', kurt)"
   ]
  },
  {
   "cell_type": "code",
   "execution_count": 16,
   "metadata": {},
   "outputs": [
    {
     "data": {
      "text/plain": [
       "<matplotlib.collections.LineCollection at 0x140e4e908>"
      ]
     },
     "execution_count": 16,
     "metadata": {},
     "output_type": "execute_result"
    },
    {
     "data": {
      "image/png": "[encoded data removed]",
      "text/plain": [
       "<Figure size 432x288 with 1 Axes>"
      ]
     },
     "metadata": {
      "needs_background": "light"
     },
     "output_type": "display_data"
    }
   ],
   "source": [
    "x = np.arange(binom.ppf(0.01, n, p),\n",
    "              binom.ppf(0.99, n, p))\n",
    "fig, ax = plt.subplots(1, 1)\n",
    "ax.plot(x, binom.pmf(x, n, p), 'bo', ms=8, label='binom pmf')\n",
    "ax.vlines(x, 0, binom.pmf(x, n, p), colors='b', lw=5, alpha=0.5)"
   ]
  },
  {
   "cell_type": "markdown",
   "metadata": {},
   "source": [
    "Example 1: Probability Equal to Some Value  \n",
    "Nathan makes 60% of his free-throw attempts.  \n",
    "If he shoots 12 free throws, what is the probability that he makes exactly 10? "
   ]
  },
  {
   "cell_type": "code",
   "execution_count": 17,
   "metadata": {},
   "outputs": [
    {
     "data": {
      "text/plain": [
       "0.06385228185599987"
      ]
     },
     "execution_count": 17,
     "metadata": {},
     "output_type": "execute_result"
    }
   ],
   "source": [
    "#calculate binomial probability\n",
    "# P(X = 10)\n",
    "n = 12\n",
    "p = 0.6\n",
    "binom.pmf(k=10, n=n, p=p)"
   ]
  },
  {
   "cell_type": "markdown",
   "metadata": {},
   "source": [
    "Example 2: Probability Less than Some Value  \n",
    "Marty flips a fair coin 5 times. \n",
    "What is the probability that the coin lands on heads 2 times or fewer?"
   ]
  },
  {
   "cell_type": "code",
   "execution_count": 18,
   "metadata": {},
   "outputs": [
    {
     "data": {
      "text/plain": [
       "0.5"
      ]
     },
     "execution_count": 18,
     "metadata": {},
     "output_type": "execute_result"
    }
   ],
   "source": [
    "# P(X <= 2)\n",
    "n = 5\n",
    "p = 0.5\n",
    "binom.cdf(k=2, n=n, p=p)"
   ]
  },
  {
   "cell_type": "markdown",
   "metadata": {},
   "source": [
    "Example 3: Probability Between Some Value  \n",
    "It is known that 70% of individuals support a certain law. \n",
    "If 10 individuals are randomly selected, \n",
    "what is the probability that between 4 and 6 of them support the law?"
   ]
  },
  {
   "cell_type": "code",
   "execution_count": 19,
   "metadata": {},
   "outputs": [
    {
     "data": {
      "text/plain": [
       "0.3397972032000002"
      ]
     },
     "execution_count": 19,
     "metadata": {},
     "output_type": "execute_result"
    }
   ],
   "source": [
    "# P(X > 4 and X <= 6)\n",
    "n = 10\n",
    "p = 0.7\n",
    "binom.cdf(k=6, n=n, p=p) - binom.cdf(k=3, n=n, p=p)"
   ]
  },
  {
   "cell_type": "code",
   "execution_count": 20,
   "metadata": {
    "scrolled": true
   },
   "outputs": [
    {
     "data": {
      "text/plain": [
       "<matplotlib.collections.LineCollection at 0x140ecb390>"
      ]
     },
     "execution_count": 20,
     "metadata": {},
     "output_type": "execute_result"
    },
    {
     "data": {
      "image/png": "[encoded data removed]",
      "text/plain": [
       "<Figure size 432x288 with 1 Axes>"
      ]
     },
     "metadata": {
      "needs_background": "light"
     },
     "output_type": "display_data"
    }
   ],
   "source": [
    "n = 9\n",
    "p = 0.8\n",
    "\n",
    "x = np.arange(binom.ppf(0.01, n, p),\n",
    "              binom.ppf(0.99, n, p))\n",
    "fig, ax = plt.subplots(1, 1)\n",
    "ax.plot(x, binom.pmf(x, n, p), 'bo', ms=8, label='binom pmf')\n",
    "ax.vlines(x, 0, binom.pmf(x, n, p), colors='b', lw=5, alpha=0.5)"
   ]
  },
  {
   "cell_type": "markdown",
   "metadata": {},
   "source": [
    "## Poisson Distribution"
   ]
  },
  {
   "cell_type": "markdown",
   "metadata": {},
   "source": [
    "probability of obtaining k successes during a given time interval.  \n",
    "P(X=k) = λk * e^– λ / k!  \n",
    "λ: mean number of successes that occur during a specific interval  \n",
    "k: number of successes  \n",
    "e: a constant equal to approximately 2.71828  "
   ]
  },
  {
   "cell_type": "code",
   "execution_count": 21,
   "metadata": {},
   "outputs": [],
   "source": [
    "from scipy.stats import poisson"
   ]
  },
  {
   "cell_type": "code",
   "execution_count": 22,
   "metadata": {},
   "outputs": [
    {
     "name": "stderr",
     "output_type": "stream",
     "text": [
      "/Users/nishapardeshi/virtualenvs/jupyter/lib/python3.7/site-packages/seaborn/distributions.py:2619: FutureWarning: `distplot` is a deprecated function and will be removed in a future version. Please adapt your code to use either `displot` (a figure-level function with similar flexibility) or `histplot` (an axes-level function for histograms).\n",
      "  warnings.warn(msg, FutureWarning)\n"
     ]
    },
    {
     "data": {
      "text/plain": [
       "<matplotlib.axes._subplots.AxesSubplot at 0x140ef9240>"
      ]
     },
     "execution_count": 22,
     "metadata": {},
     "output_type": "execute_result"
    },
    {
     "data": {
      "image/png": "[encoded data removed]",
      "text/plain": [
       "<Figure size 432x288 with 1 Axes>"
      ]
     },
     "metadata": {
      "needs_background": "light"
     },
     "output_type": "display_data"
    }
   ],
   "source": [
    "mu = 0.8\n",
    "y =10000\n",
    "data_poisson = poisson.rvs(mu = mu, size = y)\n",
    "plot_distribution(data_poisson, 'Poisson Distribution')"
   ]
  },
  {
   "cell_type": "code",
   "execution_count": 23,
   "metadata": {},
   "outputs": [
    {
     "name": "stdout",
     "output_type": "stream",
     "text": [
      "mean:  0.8  var:  0.8  skew:  1.118033988749895  kurt:  1.25\n"
     ]
    }
   ],
   "source": [
    "# First four moments\n",
    "mean, var, skew, kurt = poisson.stats(mu=mu, moments='mvsk')\n",
    "print('mean: ',mean, ' var: ',var ,' skew: ',skew, ' kurt: ', kurt)"
   ]
  },
  {
   "cell_type": "markdown",
   "metadata": {},
   "source": [
    "Example 1: Probability Equal to Some Value  \n",
    "A store sells 3 apples per day on average.  \n",
    "What is the probability that they will sell 5 apples on a given day?   "
   ]
  },
  {
   "cell_type": "code",
   "execution_count": 24,
   "metadata": {},
   "outputs": [
    {
     "data": {
      "text/plain": [
       "0.10081881344492458"
      ]
     },
     "execution_count": 24,
     "metadata": {},
     "output_type": "execute_result"
    }
   ],
   "source": [
    "# P(X = 5)\n",
    "n = 5\n",
    "mu = 3\n",
    "poisson.pmf(k=n, mu=mu)"
   ]
  },
  {
   "cell_type": "markdown",
   "metadata": {},
   "source": [
    "Example 2: Probability Less than Some Value  \n",
    "A certain store sells seven footballs per day on average. What is the probability that this store sells four or less footballs in a given day?"
   ]
  },
  {
   "cell_type": "code",
   "execution_count": 25,
   "metadata": {},
   "outputs": [
    {
     "data": {
      "text/plain": [
       "0.17299160788207146"
      ]
     },
     "execution_count": 25,
     "metadata": {},
     "output_type": "execute_result"
    }
   ],
   "source": [
    "# P(X <= 4)\n",
    "n = 4\n",
    "mu = 7\n",
    "poisson.cdf(k=n, mu=mu)"
   ]
  },
  {
   "cell_type": "markdown",
   "metadata": {},
   "source": [
    "Example 3: Probability Greater than Some Value  \n",
    "A certain store sells 15 cans of tuna per day on average. \n",
    "What is the probability that this store sells more than 20 cans of tuna in a given day?"
   ]
  },
  {
   "cell_type": "code",
   "execution_count": 26,
   "metadata": {},
   "outputs": [
    {
     "data": {
      "text/plain": [
       "0.08297091003146029"
      ]
     },
     "execution_count": 26,
     "metadata": {},
     "output_type": "execute_result"
    }
   ],
   "source": [
    "# P(X > 20) = 1 - P(X <= 20)\n",
    "n = 20\n",
    "mu =15\n",
    "1 - poisson.cdf(k=n, mu=mu)"
   ]
  },
  {
   "cell_type": "markdown",
   "metadata": {},
   "source": [
    "## Exponential Distribution"
   ]
  },
  {
   "cell_type": "markdown",
   "metadata": {},
   "source": [
    "Describes the time between events in a Poisson point process  \n",
    "The exponential distribution also has a memoryless property, which means the probability of some future event occurring is not affected by the occurrence of  past events.    "
   ]
  },
  {
   "cell_type": "code",
   "execution_count": 27,
   "metadata": {},
   "outputs": [],
   "source": [
    "from scipy.stats import expon"
   ]
  },
  {
   "cell_type": "code",
   "execution_count": 28,
   "metadata": {},
   "outputs": [
    {
     "data": {
      "text/plain": [
       "<matplotlib.axes._subplots.AxesSubplot at 0x140fd58d0>"
      ]
     },
     "execution_count": 28,
     "metadata": {},
     "output_type": "execute_result"
    },
    {
     "data": {
      "image/png": "[encoded data removed]",
      "text/plain": [
       "<Figure size 432x288 with 1 Axes>"
      ]
     },
     "metadata": {
      "needs_background": "light"
     },
     "output_type": "display_data"
    }
   ],
   "source": [
    "mu = 1\n",
    "scale = 1/mu\n",
    "n = 1000\n",
    "loc = 0\n",
    "\n",
    "data_expon = expon.rvs(scale=mu,loc=loc,size=n)\n",
    "plot_distribution(data_expon, 'Exponential Distribution')"
   ]
  },
  {
   "cell_type": "code",
   "execution_count": 29,
   "metadata": {},
   "outputs": [
    {
     "name": "stdout",
     "output_type": "stream",
     "text": [
      "mean:  1.0  var:  1.0  skew:  2.0  kurt:  6.0\n"
     ]
    }
   ],
   "source": [
    "# First four moments\n",
    "mean, var, skew, kurt = expon.stats(scale=mu,loc=loc, moments='mvsk')\n",
    "print('mean: ',mean, ' var: ',var ,' skew: ',skew, ' kurt: ', kurt)"
   ]
  },
  {
   "cell_type": "markdown",
   "metadata": {},
   "source": [
    "Question 1: A new customer enters a shop every two minutes, on average. \n",
    "After a customer arrives, find the probability that a new customer arrives in less than one minute."
   ]
  },
  {
   "cell_type": "code",
   "execution_count": 30,
   "metadata": {},
   "outputs": [
    {
     "data": {
      "text/plain": [
       "0.3934693402873666"
      ]
     },
     "execution_count": 30,
     "metadata": {},
     "output_type": "execute_result"
    }
   ],
   "source": [
    "# P(X <= 1)\n",
    "mu = 2\n",
    "scale = 1/mu\n",
    "loc = 0\n",
    "n = 1\n",
    "expon.cdf(x=n, scale=mu)"
   ]
  },
  {
   "cell_type": "markdown",
   "metadata": {},
   "source": [
    "Question 2: An earthquake occurs every 400 days in a certain region, on average. After an earthquake occurs, find the probability that it will take more than 500 days for the next earthquake to occur."
   ]
  },
  {
   "cell_type": "code",
   "execution_count": 31,
   "metadata": {},
   "outputs": [
    {
     "data": {
      "text/plain": [
       "0.28650479686019015"
      ]
     },
     "execution_count": 31,
     "metadata": {},
     "output_type": "execute_result"
    }
   ],
   "source": [
    "# P(X > 500) = 1 - P(X <= 500)\n",
    "mu = 400\n",
    "scale = 1/mu\n",
    "loc = 0\n",
    "n =500\n",
    "1 - expon.cdf(x=n, scale=mu)"
   ]
  },
  {
   "cell_type": "markdown",
   "metadata": {},
   "source": [
    "Question 3: A call center receives a new call every 10 minutes, on average. After a customer calls, find the probability that a new customer calls within 10 to 15 minutes."
   ]
  },
  {
   "cell_type": "code",
   "execution_count": 32,
   "metadata": {},
   "outputs": [
    {
     "data": {
      "text/plain": [
       "0.14474928102301254"
      ]
     },
     "execution_count": 32,
     "metadata": {},
     "output_type": "execute_result"
    }
   ],
   "source": [
    "# P(X > 10 and X <= 15)\n",
    "mu = 10\n",
    "scale = 1/mu\n",
    "loc = 0\n",
    "expon.cdf(x=15, scale=mu) - expon.cdf(x=10, scale=mu)"
   ]
  },
  {
   "cell_type": "markdown",
   "metadata": {},
   "source": [
    "## Gamma Distribution"
   ]
  },
  {
   "cell_type": "markdown",
   "metadata": {},
   "source": [
    "Used to model probabilities related to waiting times.  \n",
    "When a is an integer, gamma reduces to the Erlang distribution, and when a=1 to the exponential distribution."
   ]
  },
  {
   "cell_type": "code",
   "execution_count": 33,
   "metadata": {},
   "outputs": [],
   "source": [
    "from scipy.stats import gamma"
   ]
  },
  {
   "cell_type": "code",
   "execution_count": 34,
   "metadata": {},
   "outputs": [
    {
     "data": {
      "text/plain": [
       "<matplotlib.axes._subplots.AxesSubplot at 0x14109b470>"
      ]
     },
     "execution_count": 34,
     "metadata": {},
     "output_type": "execute_result"
    },
    {
     "data": {
      "image/png": "[encoded data removed]",
      "text/plain": [
       "<Figure size 432x288 with 1 Axes>"
      ]
     },
     "metadata": {
      "needs_background": "light"
     },
     "output_type": "display_data"
    }
   ],
   "source": [
    "a = 5\n",
    "n = 10000\n",
    "data_gamma = gamma.rvs(a = a, size = n)\n",
    "plot_distribution(data_gamma, 'Gamma Distribution')"
   ]
  },
  {
   "cell_type": "code",
   "execution_count": 35,
   "metadata": {},
   "outputs": [
    {
     "name": "stdout",
     "output_type": "stream",
     "text": [
      "mean:  5.0  var:  5.0  skew:  0.8944271909999159  kurt:  1.2\n"
     ]
    }
   ],
   "source": [
    "# First four moments\n",
    "mean, var, skew, kurt = gamma.stats(a, moments='mvsk')\n",
    "print('mean: ',mean, ' var: ',var ,' skew: ',skew, ' kurt: ', kurt)"
   ]
  },
  {
   "cell_type": "markdown",
   "metadata": {},
   "source": [
    "## Normal Distribution"
   ]
  },
  {
   "cell_type": "markdown",
   "metadata": {},
   "source": [
    "Continuous random variable whose probability distribution defines standard bell shape curve.  \n"
   ]
  },
  {
   "cell_type": "code",
   "execution_count": 36,
   "metadata": {},
   "outputs": [],
   "source": [
    "from scipy.stats import norm"
   ]
  },
  {
   "cell_type": "code",
   "execution_count": 37,
   "metadata": {},
   "outputs": [
    {
     "data": {
      "text/plain": [
       "<matplotlib.axes._subplots.AxesSubplot at 0x14117ba90>"
      ]
     },
     "execution_count": 37,
     "metadata": {},
     "output_type": "execute_result"
    },
    {
     "data": {
      "image/png": "[encoded data removed]",
      "text/plain": [
       "<Figure size 432x288 with 1 Axes>"
      ]
     },
     "metadata": {
      "needs_background": "light"
     },
     "output_type": "display_data"
    }
   ],
   "source": [
    "# loc - mean, scale - sd, size = n\n",
    "n = 10000\n",
    "std = 1\n",
    "mu = 0\n",
    "data_norm = norm.rvs(scale = std, loc = mu, size = n)\n",
    "plot_distribution(data_norm, 'Normal Distribution')"
   ]
  },
  {
   "cell_type": "code",
   "execution_count": 38,
   "metadata": {},
   "outputs": [
    {
     "name": "stdout",
     "output_type": "stream",
     "text": [
      "mean:  0.0  var:  1.0  skew:  0.0  kurt:  0.0\n"
     ]
    }
   ],
   "source": [
    "# First four moments\n",
    "mean, var, skew, kurt = norm.stats(scale=std,loc=mu, moments='mvsk')\n",
    "print('mean: ',mean, ' var: ',var ,' skew: ',skew, ' kurt: ', kurt)"
   ]
  },
  {
   "cell_type": "code",
   "execution_count": 39,
   "metadata": {},
   "outputs": [
    {
     "data": {
      "text/plain": [
       "0.10283126942687137"
      ]
     },
     "execution_count": 39,
     "metadata": {},
     "output_type": "execute_result"
    }
   ],
   "source": [
    "# P(X > 5000) = 1 - P(X<= 5000)\n",
    "x = 5000\n",
    "std = 738\n",
    "mu = 4066\n",
    "1 - norm.cdf(x = x, scale = std, loc = mu)"
   ]
  },
  {
   "cell_type": "markdown",
   "metadata": {},
   "source": [
    "## Validate data comes from a normal distribution  \n",
    "ShapiroResult(statistic=0.9958659410, pvalue=0.8669294714)"
   ]
  },
  {
   "cell_type": "code",
   "execution_count": 40,
   "metadata": {},
   "outputs": [],
   "source": [
    "from scipy.stats import shapiro"
   ]
  },
  {
   "cell_type": "code",
   "execution_count": 41,
   "metadata": {},
   "outputs": [
    {
     "name": "stderr",
     "output_type": "stream",
     "text": [
      "/Users/nishapardeshi/virtualenvs/jupyter/lib/python3.7/site-packages/scipy/stats/morestats.py:1676: UserWarning: p-value may not be accurate for N > 5000.\n",
      "  warnings.warn(\"p-value may not be accurate for N > 5000.\")\n"
     ]
    },
    {
     "data": {
      "text/plain": [
       "(0.9997916221618652, 0.4607335031032562)"
      ]
     },
     "execution_count": 41,
     "metadata": {},
     "output_type": "execute_result"
    }
   ],
   "source": [
    "shapiro(data_norm)\n",
    "# p-value of the test turns out to be 0.8984780311584473. Since this value is not less than .05, \n",
    "# fail to reject null hypothesis\n",
    "# we can assume the sample data comes from a population that is normally distributed."
   ]
  },
  {
   "cell_type": "markdown",
   "metadata": {},
   "source": [
    "Three reasons for shape to affect normality.  \n",
    "Multi mode distribution.  \n",
    "Data is skewed.  \n",
    "Outliers.  "
   ]
  },
  {
   "cell_type": "code",
   "execution_count": 42,
   "metadata": {},
   "outputs": [
    {
     "data": {
      "text/plain": [
       "(array([0.00201094, 0.01307111, 0.02714769, 0.04323521, 0.01608752,\n",
       "        0.02513675, 0.02111487, 0.03116957, 0.01407658, 0.00804376]),\n",
       " array([-4.76910177,  0.20369681,  5.17649539, 10.14929398, 15.12209256,\n",
       "        20.09489114, 25.06768973, 30.04048831, 35.01328689, 39.98608548,\n",
       "        44.95888406]),\n",
       " <a list of 10 Patch objects>)"
      ]
     },
     "execution_count": 42,
     "metadata": {},
     "output_type": "execute_result"
    },
    {
     "data": {
      "image/png": "[encoded data removed]",
      "text/plain": [
       "<Figure size 432x288 with 1 Axes>"
      ]
     },
     "metadata": {
      "needs_background": "light"
     },
     "output_type": "display_data"
    }
   ],
   "source": [
    "# Creating multi model distribution\n",
    "n = 100\n",
    "x1 = norm.rvs(scale = 5, loc = 10, size = n)\n",
    "x2 = norm.rvs(scale = 7, loc = 30, size = n)\n",
    "x = np.concatenate((x1, x2))\n",
    "plt.hist(x, density=True)"
   ]
  },
  {
   "cell_type": "code",
   "execution_count": 43,
   "metadata": {},
   "outputs": [
    {
     "data": {
      "text/plain": [
       "(array([525., 232., 125.,  60.,  23.,  14.,  10.,   5.,   2.,   4.]),\n",
       " array([2.69980283e-04, 6.91972233e-01, 1.38367449e+00, 2.07537674e+00,\n",
       "        2.76707899e+00, 3.45878124e+00, 4.15048350e+00, 4.84218575e+00,\n",
       "        5.53388800e+00, 6.22559025e+00, 6.91729251e+00]),\n",
       " <a list of 10 Patch objects>)"
      ]
     },
     "execution_count": 43,
     "metadata": {},
     "output_type": "execute_result"
    },
    {
     "data": {
      "image/png": "[encoded data removed]",
      "text/plain": [
       "<Figure size 432x288 with 1 Axes>"
      ]
     },
     "metadata": {
      "needs_background": "light"
     },
     "output_type": "display_data"
    }
   ],
   "source": [
    "# Skewed data\n",
    "plt.hist(data_expon)"
   ]
  },
  {
   "cell_type": "code",
   "execution_count": 44,
   "metadata": {},
   "outputs": [
    {
     "data": {
      "text/plain": [
       "(array([10., 58., 31.,  1.,  0.,  0.,  1.,  0.,  0.,  1.]),\n",
       " array([-4.76910177,  4.20780841, 13.18471858, 22.16162876, 31.13853894,\n",
       "        40.11544911, 49.09235929, 58.06926947, 67.04617965, 76.02308982,\n",
       "        85.        ]),\n",
       " <a list of 10 Patch objects>)"
      ]
     },
     "execution_count": 44,
     "metadata": {},
     "output_type": "execute_result"
    },
    {
     "data": {
      "image/png": "[encoded data removed]",
      "text/plain": [
       "<Figure size 432x288 with 1 Axes>"
      ]
     },
     "metadata": {
      "needs_background": "light"
     },
     "output_type": "display_data"
    }
   ],
   "source": [
    "# Add outliers to x1\n",
    "x3 = np.append(x1,[85, 50])\n",
    "plt.hist(x3)"
   ]
  },
  {
   "cell_type": "code",
   "execution_count": 45,
   "metadata": {},
   "outputs": [
    {
     "data": {
      "text/plain": [
       "array([ 3.65025338e-01,  4.21129948e-01, -5.31589616e-03,  6.20106192e-01,\n",
       "       -1.20292121e-01, -7.16155034e-01,  7.38728915e-01,  2.01087192e-01,\n",
       "        6.79316901e-02,  9.68411737e-01,  5.03323460e-01,  8.79529128e-01,\n",
       "       -6.74669063e-01, -1.97973641e-01,  6.99541003e-01, -1.19668247e-01,\n",
       "       -4.83772107e-01,  3.12402423e-02,  9.37384677e-01,  1.21618191e-01,\n",
       "       -2.00962770e-01,  1.24479494e-01, -3.16198195e-02, -1.71474514e+00,\n",
       "       -3.79737918e-01, -8.60749352e-01, -4.52564343e-01, -8.04624607e-01,\n",
       "        3.91746225e-01, -7.37284603e-01,  2.47480818e-01, -1.43791720e-01,\n",
       "        2.09344668e-01, -5.35647375e-01, -4.48337474e-02, -6.31092160e-01,\n",
       "        1.89948305e-01, -3.81184860e-01,  1.21821148e-01, -1.04646558e-01,\n",
       "       -5.78069947e-01,  2.46238598e-01, -6.29613023e-01, -1.86904856e-01,\n",
       "       -7.88669353e-02, -7.56918022e-01,  2.18740586e-01,  1.81344920e-01,\n",
       "       -6.98285313e-01,  3.14620118e-01,  8.44667940e-02, -1.30079005e-01,\n",
       "        2.05833569e-01, -1.58282591e+00,  5.60763326e-02,  1.53938906e-02,\n",
       "       -5.50045990e-01, -6.27404654e-01,  2.65257227e-01, -9.53062296e-01,\n",
       "       -8.08290491e-02, -1.70897744e-01, -2.79900209e-01, -1.87947818e-01,\n",
       "       -2.97390779e-01,  3.24632634e-01, -3.46723928e-01, -1.30664885e-02,\n",
       "       -6.01613419e-01, -2.53897601e-01, -4.63518115e-01,  7.32676651e-02,\n",
       "       -2.03071429e-01, -1.16487594e+00,  7.70591254e-01,  4.24607635e-01,\n",
       "        1.79457276e-01, -2.16655197e-01, -1.04237226e+00,  7.01731635e-02,\n",
       "       -6.48515457e-01, -5.12185852e-02,  3.91123616e-01, -8.83686119e-01,\n",
       "        2.38472137e-01, -1.52633371e-01,  3.71824133e-01,  8.16366759e-01,\n",
       "        1.24726074e+00, -1.61872480e-01, -1.00467580e-02,  1.11537523e-01,\n",
       "       -1.03667582e+00, -2.11377009e-01, -7.83144784e-01,  5.41497405e-01,\n",
       "       -9.86259321e-01,  1.65963226e-01, -4.73265445e-01,  2.56787767e-01,\n",
       "        7.51004781e+00,  3.91340100e+00])"
      ]
     },
     "execution_count": 45,
     "metadata": {},
     "output_type": "execute_result"
    }
   ],
   "source": [
    "# scale the data to check for outliers\n",
    "from scipy.stats import zscore\n",
    "zscore(x3)\n",
    "# we can see outliers have value > 3"
   ]
  },
  {
   "cell_type": "markdown",
   "metadata": {},
   "source": [
    "## Normal Quantile Plot"
   ]
  },
  {
   "cell_type": "markdown",
   "metadata": {},
   "source": [
    "x axis perfect normal quantile value and y axis is data."
   ]
  },
  {
   "cell_type": "code",
   "execution_count": 46,
   "metadata": {},
   "outputs": [],
   "source": [
    "import statsmodels.api as sm"
   ]
  },
  {
   "cell_type": "code",
   "execution_count": 77,
   "metadata": {},
   "outputs": [],
   "source": [
    "def display_qqploy(data):\n",
    "    return sm.qqplot(data,line='45',fit=True,dist=stats.norm)"
   ]
  },
  {
   "cell_type": "code",
   "execution_count": 79,
   "metadata": {},
   "outputs": [
    {
     "data": {
      "image/png": "[encoded data removed]",
      "text/plain": [
       "<Figure size 432x288 with 1 Axes>"
      ]
     },
     "metadata": {
      "needs_background": "light"
     },
     "output_type": "display_data"
    }
   ],
   "source": [
    "# normal\n",
    "display_qqploy(x1)\n",
    "plt.show()"
   ]
  },
  {
   "cell_type": "code",
   "execution_count": 80,
   "metadata": {},
   "outputs": [
    {
     "data": {
      "image/png": "[encoded data removed]",
      "text/plain": [
       "<Figure size 432x288 with 1 Axes>"
      ]
     },
     "metadata": {
      "needs_background": "light"
     },
     "output_type": "display_data"
    }
   ],
   "source": [
    "# bi model normal\n",
    "display_qqploy(x)\n",
    "plt.show()"
   ]
  },
  {
   "cell_type": "code",
   "execution_count": 81,
   "metadata": {},
   "outputs": [
    {
     "data": {
      "image/png": "[encoded data removed]",
      "text/plain": [
       "<Figure size 432x288 with 1 Axes>"
      ]
     },
     "metadata": {
      "needs_background": "light"
     },
     "output_type": "display_data"
    }
   ],
   "source": [
    "# Exponential\n",
    "display_qqploy(data_expon)\n",
    "plt.show()"
   ]
  },
  {
   "cell_type": "code",
   "execution_count": 82,
   "metadata": {},
   "outputs": [
    {
     "data": {
      "image/png": "[encoded data removed]",
      "text/plain": [
       "<Figure size 432x288 with 1 Axes>"
      ]
     },
     "metadata": {
      "needs_background": "light"
     },
     "output_type": "display_data"
    }
   ],
   "source": [
    "# outliers\n",
    "display_qqploy(x3)\n",
    "plt.show()"
   ]
  },
  {
   "cell_type": "markdown",
   "metadata": {},
   "source": [
    "## Test Normality by skewness - Lack of symmetry"
   ]
  },
  {
   "cell_type": "markdown",
   "metadata": {},
   "source": [
    "\n",
    "Measure lack of symmetry.  \n",
    "K3 = 0 for normal data\n",
    "-2 <= data <= 2 , considered normal. \n"
   ]
  },
  {
   "cell_type": "code",
   "execution_count": 89,
   "metadata": {},
   "outputs": [],
   "source": [
    "from scipy.stats import skew"
   ]
  },
  {
   "cell_type": "code",
   "execution_count": 86,
   "metadata": {},
   "outputs": [
    {
     "name": "stdout",
     "output_type": "stream",
     "text": [
      "Normal : -0.16094415981314206\n",
      "BiModel : 0.18618056631610358\n",
      "Exponential : 2.130660263981575\n",
      "Outliers : 4.602112301435585\n"
     ]
    }
   ],
   "source": [
    "print('Normal :', skew(x2))\n",
    "print('BiModel :', skew(x))\n",
    "print('Exponential :', skew(data_expon))\n",
    "print('Outliers :', skew(x3))"
   ]
  },
  {
   "cell_type": "markdown",
   "metadata": {},
   "source": [
    "## Kurtosis - Outliers"
   ]
  },
  {
   "cell_type": "markdown",
   "metadata": {},
   "source": [
    "K4 = 0 for outliers.  \n",
    "K4 >= 3, suggest there are outliers"
   ]
  },
  {
   "cell_type": "code",
   "execution_count": 91,
   "metadata": {},
   "outputs": [
    {
     "name": "stdout",
     "output_type": "stream",
     "text": [
      "Normal : -0.17035594359943307\n",
      "BiModel : -0.9975122456720538\n",
      "Exponential : 6.003676637169336\n",
      "Outliers : 30.79998946396183\n"
     ]
    }
   ],
   "source": [
    "print('Normal :', kurtosis(x2))\n",
    "print('BiModel :', kurtosis(x))\n",
    "print('Exponential :', kurtosis(data_expon))\n",
    "print('Outliers :', kurtosis(x3))"
   ]
  },
  {
   "cell_type": "markdown",
   "metadata": {},
   "source": [
    "## ZScore"
   ]
  },
  {
   "cell_type": "markdown",
   "metadata": {},
   "source": [
    "Tells us how many standard deviations away a value is from the mean  \n",
    "It is unitless, between -3 and 3.  \n",
    "It is used to standardize the data.  \n",
    "z = (X – μ) / σ\n",
    "\n",
    "where:\n",
    "\n",
    "X is a single raw data value  \n",
    "μ is the population mean  \n",
    "σ is the population standard deviation  "
   ]
  },
  {
   "cell_type": "markdown",
   "metadata": {},
   "source": [
    "scipy.stats.zscore(a, axis=0, ddof=0, nan_policy=’propagate’)  \n",
    "\n",
    "where:  \n",
    "\n",
    "a: an array like object containing data  \n",
    "axis: the axis along which to calculate the z-scores. Default is 0.  \n",
    "ddof: degrees of freedom correction in the calculation of the standard deviation. Default is 0.  \n",
    "nan_policy: how to handle when input contains nan. Default is propagate, which returns nan. ‘raise’ throws an error and ‘omit’ performs calculations ignoring nan values.  "
   ]
  },
  {
   "cell_type": "code",
   "execution_count": null,
   "metadata": {},
   "outputs": [],
   "source": [
    "from scipy.stats import zscore"
   ]
  },
  {
   "cell_type": "code",
   "execution_count": null,
   "metadata": {},
   "outputs": [],
   "source": [
    "zscore(data_norm)"
   ]
  },
  {
   "cell_type": "code",
   "execution_count": null,
   "metadata": {},
   "outputs": [],
   "source": [
    "# P(X > 5000) = 1 - P(X<= 5000)\n",
    "x = 5000\n",
    "loc = 738\n",
    "mu = 4066\n",
    "\n",
    "z = (x - mu)/loc\n",
    "print('z: ',z, '\\n')\n",
    "print('z is 1.27, so 5000 is above the mean by 1.27 std dev')\n",
    "1 - norm.cdf(z)\n"
   ]
  },
  {
   "cell_type": "markdown",
   "metadata": {},
   "source": [
    "## Quantile Value of Normal Distribution"
   ]
  },
  {
   "cell_type": "markdown",
   "metadata": {},
   "source": [
    "Question 1: Packaging system fills boxsuch that weight are normally distribuited with mu 16.03 oz and sigma 0.2 oz. \n",
    "What weight should mean of process be adjusted, so chance of underweight box iis just 0.005?"
   ]
  },
  {
   "cell_type": "code",
   "execution_count": null,
   "metadata": {},
   "outputs": [],
   "source": [
    "# P(X < 16) = 0.005\n",
    "# X is normally distributed with sigma = 0.2, we need to find mean\n",
    "# Convert to zscore as mean =0 and sd = 1\n",
    "# P(Z < z) = 0.005\n",
    "x = 16\n",
    "q = 0.005\n",
    "loc = 0.2\n",
    "\n",
    "z = norm.ppf(q = q, loc=0, scale=1)\n",
    "print('z : ',z)\n",
    "#z = (x - mu)/sigma\n",
    "# mu = (x - z*sigma)\n",
    "mu = x - z * loc\n",
    "print('mu : ', mu)\n",
    "# if we hold mean of package rate as 16.5, there is only 0.5% chance to get underweight box."
   ]
  },
  {
   "cell_type": "markdown",
   "metadata": {},
   "source": [
    "Question 2: Suppose 1$ million portfolio of investor is expected to average 10\\% growth over the next few year with stddev of 30\\%.  \n",
    "What is VaR (Value at risk) using the worst 5\\%."
   ]
  },
  {
   "cell_type": "code",
   "execution_count": null,
   "metadata": {},
   "outputs": [],
   "source": [
    "mean = 10\n",
    "q = 0.05\n",
    "std = 30\n",
    "norm.ppf(q = q, loc=mean, scale=std)"
   ]
  },
  {
   "cell_type": "markdown",
   "metadata": {},
   "source": [
    "The risk for 5\\% worst portfolio value is below -39.35\\%. "
   ]
  }
 ],
 "metadata": {
  "kernelspec": {
   "display_name": "Python 3",
   "language": "python",
   "name": "python3"
  },
  "language_info": {
   "codemirror_mode": {
    "name": "ipython",
    "version": 3
   },
   "file_extension": ".py",
   "mimetype": "text/x-python",
   "name": "python",
   "nbconvert_exporter": "python",
   "pygments_lexer": "ipython3",
   "version": "3.7.3"
  }
 },
 "nbformat": 4,
 "nbformat_minor": 4
}
